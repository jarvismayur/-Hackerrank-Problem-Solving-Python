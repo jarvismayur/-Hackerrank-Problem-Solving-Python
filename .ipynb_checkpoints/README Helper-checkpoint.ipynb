{
 "cells": [
  {
   "cell_type": "code",
   "execution_count": 2,
   "id": "c5edb689-9675-4c29-9744-38cb7832c057",
   "metadata": {},
   "outputs": [
    {
     "ename": "FileNotFoundError",
     "evalue": "[WinError 3] The system cannot find the path specified: 'Python'",
     "output_type": "error",
     "traceback": [
      "\u001b[1;31m---------------------------------------------------------------------------\u001b[0m",
      "\u001b[1;31mFileNotFoundError\u001b[0m                         Traceback (most recent call last)",
      "Cell \u001b[1;32mIn[2], line 12\u001b[0m\n\u001b[0;32m      9\u001b[0m     \u001b[38;5;28;01mreturn\u001b[39;00m folders\n\u001b[0;32m     11\u001b[0m \u001b[38;5;66;03m# Get the list of folders in the current directory\u001b[39;00m\n\u001b[1;32m---> 12\u001b[0m folders \u001b[38;5;241m=\u001b[39m list_folders(\u001b[38;5;124m\"\u001b[39m\u001b[38;5;124mPython\u001b[39m\u001b[38;5;124m\"\u001b[39m)\n\u001b[0;32m     14\u001b[0m \u001b[38;5;66;03m# Print the list of folders\u001b[39;00m\n\u001b[0;32m     15\u001b[0m \u001b[38;5;28;01mfor\u001b[39;00m folder \u001b[38;5;129;01min\u001b[39;00m folders:\n",
      "Cell \u001b[1;32mIn[2], line 6\u001b[0m, in \u001b[0;36mlist_folders\u001b[1;34m(path)\u001b[0m\n\u001b[0;32m      4\u001b[0m \u001b[38;5;250m\u001b[39m\u001b[38;5;124;03m\"\"\"Lists all folders in the given directory.\"\"\"\u001b[39;00m\n\u001b[0;32m      5\u001b[0m folders \u001b[38;5;241m=\u001b[39m []\n\u001b[1;32m----> 6\u001b[0m \u001b[38;5;28;01mfor\u001b[39;00m entry \u001b[38;5;129;01min\u001b[39;00m os\u001b[38;5;241m.\u001b[39mscandir(path):\n\u001b[0;32m      7\u001b[0m     \u001b[38;5;28;01mif\u001b[39;00m entry\u001b[38;5;241m.\u001b[39mis_dir():\n\u001b[0;32m      8\u001b[0m         folders\u001b[38;5;241m.\u001b[39mappend(entry\u001b[38;5;241m.\u001b[39mname)\n",
      "\u001b[1;31mFileNotFoundError\u001b[0m: [WinError 3] The system cannot find the path specified: 'Python'"
     ]
    }
   ],
   "source": [
    "import os\n",
    "\n",
    "def list_folders(path):\n",
    "    \"\"\"Lists all folders in the given directory.\"\"\"\n",
    "    folders = []\n",
    "    for entry in os.scandir(path):\n",
    "        if entry.is_dir():\n",
    "            folders.append(entry.name)\n",
    "    return folders\n",
    "\n",
    "# Get the list of folders in the current directory\n",
    "folders = list_folders(\"Python\")\n",
    "\n",
    "# Print the list of folders\n",
    "for folder in folders:\n",
    "    print(\"## \" + folder)\n",
    "    "
   ]
  },
  {
   "cell_type": "code",
   "execution_count": null,
   "id": "2720e929-86ae-43cb-a104-37ad8dbf07e2",
   "metadata": {},
   "outputs": [],
   "source": []
  }
 ],
 "metadata": {
  "kernelspec": {
   "display_name": "Python 3 (ipykernel)",
   "language": "python",
   "name": "python3"
  },
  "language_info": {
   "codemirror_mode": {
    "name": "ipython",
    "version": 3
   },
   "file_extension": ".py",
   "mimetype": "text/x-python",
   "name": "python",
   "nbconvert_exporter": "python",
   "pygments_lexer": "ipython3",
   "version": "3.11.7"
  }
 },
 "nbformat": 4,
 "nbformat_minor": 5
}
