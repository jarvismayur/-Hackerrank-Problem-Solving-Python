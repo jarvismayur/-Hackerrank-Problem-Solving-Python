{
 "cells": [
  {
   "cell_type": "code",
   "execution_count": 1,
   "id": "c5edb689-9675-4c29-9744-38cb7832c057",
   "metadata": {},
   "outputs": [
    {
     "name": "stdout",
     "output_type": "stream",
     "text": [
      "## Alphabet Rangoli\n",
      "## Arithmetic Operators\n",
      "## Capitalize!\n",
      "## Check Strict Superset\n",
      "## Check Subset\n",
      "## Designer Door Mat\n",
      "## Find a string\n",
      "## Find the Runner-Up Score!\n",
      "## Finding the percentage\n",
      "## Introduction to Sets\n",
      "## itertools.combinations()\n",
      "## itertools.combinations_with_replacement()\n",
      "## itertools.permutations()\n",
      "## itertools.product()\n",
      "## List Comprehensions\n",
      "## Lists\n",
      "## Loops\n",
      "## Merge the Tools!\n",
      "## Mutations\n",
      "## Nested Lists\n",
      "## No Idea!\n",
      "## Print Function\n",
      "## Python Division\n",
      "## Python If-Else\n",
      "## Say Hello World With Python\n",
      "## Set .add()\n",
      "## Set .difference() Operation\n",
      "## Set .discard(), .remove() & .pop()\n",
      "## Set .intersection() Operation\n",
      "## Set .symmetric_difference() Operation\n",
      "## Set .union() Operation\n",
      "## Set Mutations\n",
      "## String Formatting\n",
      "## String Split and Join\n",
      "## String Validators\n",
      "## sWAP cASE\n",
      "## Symmetric Difference\n",
      "## Text Alignment\n",
      "## Text Wrap\n",
      "## The Captain's Room\n",
      "## The Minion Game\n",
      "## Tuples\n",
      "## What's Your Name\n",
      "## Write a function\n"
     ]
    }
   ],
   "source": [
    "import os\n",
    "\n",
    "def list_folders(path):\n",
    "    \"\"\"Lists all folders in the given directory.\"\"\"\n",
    "    folders = []\n",
    "    for entry in os.scandir(path):\n",
    "        if entry.is_dir():\n",
    "            folders.append(entry.name)\n",
    "    return folders\n",
    "\n",
    "# Get the list of folders in the current directory\n",
    "folders = list_folders(\"Python\")\n",
    "\n",
    "# Print the list of folders\n",
    "for folder in folders:\n",
    "    print(\"## \" + folder)\n",
    "    "
   ]
  },
  {
   "cell_type": "code",
   "execution_count": 3,
   "id": "2720e929-86ae-43cb-a104-37ad8dbf07e2",
   "metadata": {},
   "outputs": [
    {
     "name": "stdout",
     "output_type": "stream",
     "text": [
      "|[A Very Big Sum](#a-very-big-sum)|[A Very Big Sum](https://www.hackerrank.com/challenges/a-very-big-sum/problem)| | | | |\n",
      "|[Apple and Orange](#apple-and-orange)|[Apple and Orange](https://www.hackerrank.com/challenges/apple-and-orange/problem)| | | | |\n",
      "|[Birthday Cake Candles](#birthday-cake-candles)|[Birthday Cake Candles](https://www.hackerrank.com/challenges/birthday-cake-candles/problem)| | | | |\n",
      "|[Compare the Triplets](#compare-the-triplets)|[Compare the Triplets](https://www.hackerrank.com/challenges/compare-the-triplets/problem)| | | | |\n",
      "|[Diagonal Difference](#diagonal-difference)|[Diagonal Difference](https://www.hackerrank.com/challenges/diagonal-difference/problem)| | | | |\n",
      "|[Grading Students](#grading-students)|[Grading Students](https://www.hackerrank.com/challenges/grading-students/problem)| | | | |\n",
      "|[Mini-Max Sum](#mini-max-sum)|[Mini-Max Sum](https://www.hackerrank.com/challenges/mini-max-sum/problem)| | | | |\n",
      "|[Plus Minus](#plus-minus)|[Plus Minus](https://www.hackerrank.com/challenges/plus-minus/problem)| | | | |\n",
      "|[Simple Array Sum](#simple-array-sum)|[Simple Array Sum](https://www.hackerrank.com/challenges/simple-array-sum/problem)| | | | |\n",
      "|[Solve Me First](#solve-me-first)|[Solve Me First](https://www.hackerrank.com/challenges/solve-me-first/problem)| | | | |\n",
      "|[Staircase](#staircase)|[Staircase](https://www.hackerrank.com/challenges/staircase/problem)| | | | |\n",
      "|[Time Conversion](#time-conversion)|[Time Conversion](https://www.hackerrank.com/challenges/time-conversion/problem)| | | | |\n"
     ]
    }
   ],
   "source": [
    "import os\n",
    "from slugify import slugify\n",
    "def list_folders(path):\n",
    "    \"\"\"Lists all folders in the given directory.\"\"\"\n",
    "    folders = []\n",
    "    for entry in os.scandir(path):\n",
    "        if entry.is_dir():\n",
    "            folders.append(entry.name)\n",
    "    return folders\n",
    "\n",
    "# Get the list of folders in the current directory\n",
    "folders = list_folders(\"Algorithms\")\n",
    "\n",
    "# Print the list of folders\n",
    "for folder in folders:\n",
    "    print(\"|[\" + folder+ \"](#\"+slugify(folder, separator='-')+\")|[\"+ folder+ \"](https://www.hackerrank.com/challenges/\"+slugify(folder, separator='-')+\"/problem)| | | | |\")"
   ]
  },
  {
   "cell_type": "code",
   "execution_count": null,
   "id": "82f8a55c-0aa9-4248-bafb-62704277ff2e",
   "metadata": {},
   "outputs": [],
   "source": []
  }
 ],
 "metadata": {
  "kernelspec": {
   "display_name": "Python 3 (ipykernel)",
   "language": "python",
   "name": "python3"
  },
  "language_info": {
   "codemirror_mode": {
    "name": "ipython",
    "version": 3
   },
   "file_extension": ".py",
   "mimetype": "text/x-python",
   "name": "python",
   "nbconvert_exporter": "python",
   "pygments_lexer": "ipython3",
   "version": "3.11.7"
  }
 },
 "nbformat": 4,
 "nbformat_minor": 5
}
