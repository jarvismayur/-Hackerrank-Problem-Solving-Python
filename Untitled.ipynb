{
 "cells": [
  {
   "cell_type": "code",
   "execution_count": 4,
   "id": "c5edb689-9675-4c29-9744-38cb7832c057",
   "metadata": {},
   "outputs": [
    {
     "name": "stdout",
     "output_type": "stream",
     "text": [
      "## A Very Big Sum\n",
      "## Apple and Orange\n",
      "## Birthday Cake Candles\n",
      "## Compare the Triplets\n",
      "## Diagonal Difference\n",
      "## Grading Students\n",
      "## Mini-Max Sum\n",
      "## Plus Minus\n",
      "## Simple Array Sum\n",
      "## Solve Me First\n",
      "## Staircase\n",
      "## Time Conversion\n"
     ]
    }
   ],
   "source": [
    "import os\n",
    "\n",
    "def list_folders(path):\n",
    "    \"\"\"Lists all folders in the given directory.\"\"\"\n",
    "    folders = []\n",
    "    for entry in os.scandir(path):\n",
    "        if entry.is_dir():\n",
    "            folders.append(entry.name)\n",
    "    return folders\n",
    "\n",
    "# Get the list of folders in the current directory\n",
    "folders = list_folders(\"Algorithms\")\n",
    "\n",
    "# Print the list of folders\n",
    "for folder in folders:\n",
    "    print(\"## \" + folder)\n",
    "    "
   ]
  },
  {
   "cell_type": "code",
   "execution_count": null,
   "id": "2720e929-86ae-43cb-a104-37ad8dbf07e2",
   "metadata": {},
   "outputs": [],
   "source": []
  }
 ],
 "metadata": {
  "kernelspec": {
   "display_name": "Python 3 (ipykernel)",
   "language": "python",
   "name": "python3"
  },
  "language_info": {
   "codemirror_mode": {
    "name": "ipython",
    "version": 3
   },
   "file_extension": ".py",
   "mimetype": "text/x-python",
   "name": "python",
   "nbconvert_exporter": "python",
   "pygments_lexer": "ipython3",
   "version": "3.11.7"
  }
 },
 "nbformat": 4,
 "nbformat_minor": 5
}
