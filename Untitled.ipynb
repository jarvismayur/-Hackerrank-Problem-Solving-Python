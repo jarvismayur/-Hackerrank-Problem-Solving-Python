{
 "cells": [
  {
   "cell_type": "code",
   "execution_count": 6,
   "id": "c5edb689-9675-4c29-9744-38cb7832c057",
   "metadata": {},
   "outputs": [
    {
     "name": "stdout",
     "output_type": "stream",
     "text": [
      "## Employee Names\n",
      "## Employee Salaries\n",
      "## Higher Than 75 Marks\n",
      "## Japanese Cities' Attributes\n",
      "## Japanese Cities' Names\n",
      "## Revising the Select Query I\n",
      "## Revising the Select Query II\n",
      "## Select All\n",
      "## Select By ID\n",
      "## Type of Triangle\n",
      "## Weather Observation Station 1\n",
      "## Weather Observation Station 10\n",
      "## Weather Observation Station 11\n",
      "## Weather Observation Station 12\n",
      "## Weather Observation Station 3\n",
      "## Weather Observation Station 4\n",
      "## Weather Observation Station 5\n",
      "## Weather Observation Station 6\n",
      "## Weather Observation Station 7\n",
      "## Weather Observation Station 8\n",
      "## Weather Observation Station 9\n"
     ]
    }
   ],
   "source": [
    "import os\n",
    "\n",
    "def list_folders(path):\n",
    "    \"\"\"Lists all folders in the given directory.\"\"\"\n",
    "    folders = []\n",
    "    for entry in os.scandir(path):\n",
    "        if entry.is_dir():\n",
    "            folders.append(entry.name)\n",
    "    return folders\n",
    "\n",
    "# Get the list of folders in the current directory\n",
    "folders = list_folders(\"SQL\")\n",
    "\n",
    "# Print the list of folders\n",
    "for folder in folders:\n",
    "    print(\"## \" + folder)\n",
    "    "
   ]
  },
  {
   "cell_type": "code",
   "execution_count": null,
   "id": "2720e929-86ae-43cb-a104-37ad8dbf07e2",
   "metadata": {},
   "outputs": [],
   "source": []
  }
 ],
 "metadata": {
  "kernelspec": {
   "display_name": "Python 3 (ipykernel)",
   "language": "python",
   "name": "python3"
  },
  "language_info": {
   "codemirror_mode": {
    "name": "ipython",
    "version": 3
   },
   "file_extension": ".py",
   "mimetype": "text/x-python",
   "name": "python",
   "nbconvert_exporter": "python",
   "pygments_lexer": "ipython3",
   "version": "3.11.7"
  }
 },
 "nbformat": 4,
 "nbformat_minor": 5
}
